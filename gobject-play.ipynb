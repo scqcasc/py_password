{
 "cells": [
  {
   "cell_type": "code",
   "execution_count": 17,
   "metadata": {},
   "outputs": [
    {
     "data": {
      "text/plain": [
       "0"
      ]
     },
     "execution_count": 17,
     "metadata": {},
     "output_type": "execute_result"
    }
   ],
   "source": [
    "import gi\n",
    "\n",
    "from password import Password\n",
    "\n",
    "p = Password(length=12)\n",
    "\n",
    "gi.require_version(\"Gtk\", \"4.0\")\n",
    "from gi.repository import Gtk, Gdk, Notify\n",
    "\n",
    "def on_activate(app):\n",
    "    display = Gdk.Display.get_default()\n",
    "    clipboard = Gdk.Display.get_clipboard(display)\n",
    "    clipboard.set(p.get())\n",
    "app = Gtk.Application(application_id='org.Gtk.Example')\n",
    "app.connect('activate', on_activate)\n",
    "app.run(None)\n",
    "\n"
   ]
  },
  {
   "cell_type": "code",
   "execution_count": 8,
   "metadata": {},
   "outputs": [],
   "source": [
    "from tkinter import Tk\n",
    "r = Tk()\n",
    "r.withdraw()\n",
    "r.clipboard_clear()\n",
    "r.clipboard_append(p.get())\n",
    "r.destroy()\n"
   ]
  },
  {
   "cell_type": "code",
   "execution_count": null,
   "metadata": {},
   "outputs": [],
   "source": []
  }
 ],
 "metadata": {
  "kernelspec": {
   "display_name": "Python 3",
   "language": "python",
   "name": "python3"
  },
  "language_info": {
   "codemirror_mode": {
    "name": "ipython",
    "version": 3
   },
   "file_extension": ".py",
   "mimetype": "text/x-python",
   "name": "python",
   "nbconvert_exporter": "python",
   "pygments_lexer": "ipython3",
   "version": "3.12.4"
  }
 },
 "nbformat": 4,
 "nbformat_minor": 2
}
